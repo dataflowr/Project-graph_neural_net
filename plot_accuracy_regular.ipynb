{
 "cells": [
  {
   "cell_type": "code",
   "execution_count": 1,
   "metadata": {},
   "outputs": [],
   "source": [
    "import os\n",
    "from pathlib import Path\n",
    "import math\n",
    "import json\n",
    "import numpy as np\n",
    "import torch\n",
    "import matplotlib.pyplot as plt\n",
    "from models import get_model\n",
    "from toolbox.losses import get_criterion\n",
    "from toolbox import metrics\n",
    "from loaders.data_generator import Generator\n",
    "from loaders.siamese_loaders import siamese_loader\n",
    "from toolbox.metrics import all_losses_acc, accuracy_linear_assignment"
   ]
  },
  {
   "cell_type": "code",
   "execution_count": 2,
   "metadata": {},
   "outputs": [],
   "source": [
    "def get_device_config(model_path):\n",
    "    config_file = os.path.join(model_path,'config.json')\n",
    "    with open(config_file) as json_file:\n",
    "        config_model = json.load(json_file)\n",
    "    use_cuda = not config_model['cpu'] and torch.cuda.is_available()\n",
    "    device = 'cuda' if use_cuda else 'cpu'\n",
    "    return config_model, device\n",
    "\n",
    "def load_model(model_path, config, device):\n",
    "    model = get_model(config['arch'])\n",
    "    model.to(device)\n",
    "    model_file = os.path.join(model_path,'model_best.pth.tar')\n",
    "    if device == 'cpu':\n",
    "        checkpoint = torch.load(model_file,map_location=torch.device('cpu'))\n",
    "    else:\n",
    "        checkpoint = torch.load(model_file)\n",
    "    model.load_state_dict(checkpoint['state_dict'])\n",
    "    return model\n",
    "\n",
    "def creat_args(config, num_ex = 1000):\n",
    "    args = config['data']\n",
    "    args['num_examples_test'] = num_ex\n",
    "    n_vertices = args['n_vertices']\n",
    "    edge_density = args['edge_density']\n",
    "    deg = (n_vertices-1)*edge_density\n",
    "    print(f'graphs with {n_vertices} vertices and average degree {deg}')\n",
    "    return args, deg\n",
    "\n",
    "def acc_2_error(mean_acc, q_acc):\n",
    "    error = q_acc-mean_acc[:,np.newaxis]\n",
    "    error[:,0] = -error[:,0]\n",
    "    return error\n",
    "\n",
    "def compute_all(list_noise,args,model,bs=50):\n",
    "    num_batches = math.ceil(args['num_examples_test']/bs)\n",
    "    all_losses = np.zeros((len(list_noise),num_batches))\n",
    "    all_acc = np.zeros((len(list_noise),args['num_examples_test']))\n",
    "    for i,noise in enumerate(list_noise):\n",
    "        args['noise'] = noise\n",
    "        gene_test = Generator('test', args)\n",
    "        gene_test.load_dataset()\n",
    "        test_loader = siamese_loader(gene_test, bs, gene_test.constant_n_vertices)\n",
    "        all_losses[i,:], all_acc[i,:] = all_losses_acc(test_loader,model,criterion,device,eval_score=accuracy_linear_assignment)\n",
    "    return all_losses, all_acc\n",
    "\n",
    "def compute_quant(all_acc,quant_low=0.1,quant_up=0.9):\n",
    "    mean_acc = np.mean(all_acc,1)\n",
    "    num = len(mean_acc)\n",
    "    q_acc = np.zeros((num,2))\n",
    "    for i in range(num):\n",
    "        q_acc[i,:] = np.quantile(all_acc[i,:],[quant_up, quant_low])\n",
    "    return mean_acc, q_acc"
   ]
  },
  {
   "cell_type": "markdown",
   "metadata": {},
   "source": [
    "# Downloading the pretrained model\n",
    "\n",
    "The cell below should only be run once, it creates a folder `downloads/` and then downloads in this folder the pretrained model and the configuration file."
   ]
  },
  {
   "cell_type": "code",
   "execution_count": 3,
   "metadata": {},
   "outputs": [],
   "source": [
    "import requests\n",
    "config_url = 'https://github.com/mlelarge/graph_neural_net/releases/download/QAP/config.json'\n",
    "model_url = 'https://github.com/mlelarge/graph_neural_net/releases/download/QAP/model_best.pth.tar'\n",
    "%mkdir downloads\n",
    "cwd = os.getcwd()\n",
    "\n",
    "r = requests.get(config_url)\n",
    "with open(cwd+'/downloads/config.json', 'wb') as f:\n",
    "    f.write(r.content)\n",
    "\n",
    "r = requests.get(model_url)\n",
    "with open(cwd+'/downloads/model_best.pth.tar', 'wb') as f:\n",
    "    f.write(r.content)"
   ]
  },
  {
   "cell_type": "code",
   "execution_count": 4,
   "metadata": {},
   "outputs": [
    {
     "name": "stdout",
     "output_type": "stream",
     "text": [
      "Fetching model Siamese_Model - Simple_Node_Embedding \n"
     ]
    }
   ],
   "source": [
    "model_path = cwd+'/downloads/'\n",
    "config_model, device = get_device_config(model_path)\n",
    "model = load_model(model_path,config_model,device)\n",
    "criterion = get_criterion(device, config_model['train']['loss_reduction'])"
   ]
  },
  {
   "cell_type": "code",
   "execution_count": 5,
   "metadata": {},
   "outputs": [
    {
     "name": "stdout",
     "output_type": "stream",
     "text": [
      "graphs with 50 vertices and average degree 9.8\n"
     ]
    }
   ],
   "source": [
    "args,deg  = creat_args(config_model)"
   ]
  },
  {
   "cell_type": "code",
   "execution_count": 6,
   "metadata": {},
   "outputs": [],
   "source": [
    "num = 23\n",
    "list_noise = np.linspace(0, 0.22, num=num)"
   ]
  },
  {
   "cell_type": "markdown",
   "metadata": {},
   "source": [
    "# Inference\n",
    "\n",
    "The cell below will create dataset of graphs with various level of noise if they do not exist, otherwise it will only read them."
   ]
  },
  {
   "cell_type": "code",
   "execution_count": 7,
   "metadata": {},
   "outputs": [
    {
     "name": "stdout",
     "output_type": "stream",
     "text": [
      "Reading dataset at dataset/QAP_Regular_ErdosRenyi_1000_50_1.0_0.0_0.2/test.pkl\n",
      "Reading dataset at dataset/QAP_Regular_ErdosRenyi_1000_50_1.0_0.01_0.2/test.pkl\n",
      "Reading dataset at dataset/QAP_Regular_ErdosRenyi_1000_50_1.0_0.02_0.2/test.pkl\n",
      "Reading dataset at dataset/QAP_Regular_ErdosRenyi_1000_50_1.0_0.03_0.2/test.pkl\n",
      "Reading dataset at dataset/QAP_Regular_ErdosRenyi_1000_50_1.0_0.04_0.2/test.pkl\n",
      "Reading dataset at dataset/QAP_Regular_ErdosRenyi_1000_50_1.0_0.05_0.2/test.pkl\n",
      "Reading dataset at dataset/QAP_Regular_ErdosRenyi_1000_50_1.0_0.06_0.2/test.pkl\n",
      "Reading dataset at dataset/QAP_Regular_ErdosRenyi_1000_50_1.0_0.07_0.2/test.pkl\n",
      "Reading dataset at dataset/QAP_Regular_ErdosRenyi_1000_50_1.0_0.08_0.2/test.pkl\n",
      "Reading dataset at dataset/QAP_Regular_ErdosRenyi_1000_50_1.0_0.09_0.2/test.pkl\n",
      "Reading dataset at dataset/QAP_Regular_ErdosRenyi_1000_50_1.0_0.1_0.2/test.pkl\n",
      "Reading dataset at dataset/QAP_Regular_ErdosRenyi_1000_50_1.0_0.11_0.2/test.pkl\n",
      "Reading dataset at dataset/QAP_Regular_ErdosRenyi_1000_50_1.0_0.12_0.2/test.pkl\n",
      "Reading dataset at dataset/QAP_Regular_ErdosRenyi_1000_50_1.0_0.13_0.2/test.pkl\n",
      "Reading dataset at dataset/QAP_Regular_ErdosRenyi_1000_50_1.0_0.14_0.2/test.pkl\n",
      "Reading dataset at dataset/QAP_Regular_ErdosRenyi_1000_50_1.0_0.15_0.2/test.pkl\n",
      "Reading dataset at dataset/QAP_Regular_ErdosRenyi_1000_50_1.0_0.16_0.2/test.pkl\n",
      "Reading dataset at dataset/QAP_Regular_ErdosRenyi_1000_50_1.0_0.17_0.2/test.pkl\n",
      "Reading dataset at dataset/QAP_Regular_ErdosRenyi_1000_50_1.0_0.18_0.2/test.pkl\n",
      "Reading dataset at dataset/QAP_Regular_ErdosRenyi_1000_50_1.0_0.19_0.2/test.pkl\n",
      "Reading dataset at dataset/QAP_Regular_ErdosRenyi_1000_50_1.0_0.2_0.2/test.pkl\n",
      "Reading dataset at dataset/QAP_Regular_ErdosRenyi_1000_50_1.0_0.21_0.2/test.pkl\n",
      "Reading dataset at dataset/QAP_Regular_ErdosRenyi_1000_50_1.0_0.22_0.2/test.pkl\n"
     ]
    }
   ],
   "source": [
    "all_l, all_a = compute_all(list_noise,args,model)"
   ]
  },
  {
   "cell_type": "markdown",
   "metadata": {},
   "source": [
    "# Results\n",
    "\n",
    "The FGNN has been trained with regular graphs with $50$ vertices, average degree $10$ and noise level $0.15$. The accuracy below is the fraction of matched vertices between two noisy versions of a given graph at various level of noise."
   ]
  },
  {
   "cell_type": "code",
   "execution_count": 8,
   "metadata": {},
   "outputs": [],
   "source": [
    "quant_low=0.1\n",
    "quant_up=0.9\n",
    "mc_50, q50 = compute_quant(all_a,quant_low=quant_low,quant_up=quant_up)"
   ]
  },
  {
   "cell_type": "code",
   "execution_count": 9,
   "metadata": {},
   "outputs": [
    {
     "data": {
      "image/png": "[encoded data removed]",
      "text/plain": [
       "<Figure size 432x288 with 1 Axes>"
      ]
     },
     "metadata": {
      "needs_background": "light"
     },
     "output_type": "display_data"
    }
   ],
   "source": [
    "error_50 = acc_2_error(mc_50,q50)\n",
    "\n",
    "plt.errorbar(list_noise,mc_50,yerr=error_50.T,label='FGNN');\n",
    "plt.xlabel('noise (fraction of noisy edges)')\n",
    "plt.ylabel('accuracy')\n",
    "plt.title(f'Graphs with avg. degree {deg} (quantile {int(100*quant_low)}-{int(100*quant_up)}%)')\n",
    "plt.legend()\n",
    "plt.show()"
   ]
  },
  {
   "cell_type": "code",
   "execution_count": null,
   "metadata": {},
   "outputs": [],
   "source": []
  }
 ],
 "metadata": {
  "kernelspec": {
   "display_name": "gnn",
   "language": "python",
   "name": "gnn"
  },
  "language_info": {
   "codemirror_mode": {
    "name": "ipython",
    "version": 3
   },
   "file_extension": ".py",
   "mimetype": "text/x-python",
   "name": "python",
   "nbconvert_exporter": "python",
   "pygments_lexer": "ipython3",
   "version": "3.6.9"
  }
 },
 "nbformat": 4,
 "nbformat_minor": 4
}
