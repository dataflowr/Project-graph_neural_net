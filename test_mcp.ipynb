{
 "cells": [
  {
   "cell_type": "code",
   "execution_count": 1,
   "metadata": {},
   "outputs": [],
   "source": [
    "%load_ext autoreload\n",
    "%autoreload 2"
   ]
  },
  {
   "cell_type": "code",
   "execution_count": 2,
   "metadata": {},
   "outputs": [],
   "source": [
    "import os\n",
    "import math\n",
    "import json\n",
    "import numpy as np\n",
    "import torch\n",
    "import torch.nn as nn\n",
    "import matplotlib.pyplot as plt\n",
    "import networkx\n",
    "from matplotlib import pyplot"
   ]
  },
  {
   "cell_type": "code",
   "execution_count": 3,
   "metadata": {},
   "outputs": [],
   "source": [
    "from models import get_model\n",
    "from toolbox.losses import mcp_loss\n",
    "from toolbox import metrics, utils\n",
    "from loaders.data_generator import MCP_Generator\n",
    "from loaders.siamese_loaders import siamese_loader\n",
    "from toolbox.metrics import all_losses_acc, accuracy_linear_assignment"
   ]
  },
  {
   "cell_type": "code",
   "execution_count": 346,
   "metadata": {},
   "outputs": [],
   "source": [
    "n_vertices = 100#200\n",
    "a = 0.04#0.43454\n",
    "edge_density = 1/(n_vertices **a)"
   ]
  },
  {
   "cell_type": "code",
   "execution_count": 347,
   "metadata": {},
   "outputs": [
    {
     "data": {
      "text/plain": [
       "0.831763771102671"
      ]
     },
     "execution_count": 347,
     "metadata": {},
     "output_type": "execute_result"
    }
   ],
   "source": [
    "edge_density"
   ]
  },
  {
   "cell_type": "code",
   "execution_count": 348,
   "metadata": {},
   "outputs": [],
   "source": [
    "def compute_a(n_vertices, edge_denstiy):\n",
    "    return -np.log(edge_density)/np.log(n_vertices)"
   ]
  },
  {
   "cell_type": "code",
   "execution_count": 548,
   "metadata": {},
   "outputs": [],
   "source": [
    "edge_density = 0.1#0.12"
   ]
  },
  {
   "cell_type": "code",
   "execution_count": 549,
   "metadata": {},
   "outputs": [
    {
     "data": {
      "text/plain": [
       "10.0"
      ]
     },
     "execution_count": 549,
     "metadata": {},
     "output_type": "execute_result"
    }
   ],
   "source": [
    "edge_density*n_vertices"
   ]
  },
  {
   "cell_type": "code",
   "execution_count": 550,
   "metadata": {},
   "outputs": [
    {
     "data": {
      "text/plain": [
       "3.0154738238809906"
      ]
     },
     "execution_count": 550,
     "metadata": {},
     "output_type": "execute_result"
    }
   ],
   "source": [
    "np.log(n_vertices)/np.log(np.log(n_vertices))"
   ]
  },
  {
   "cell_type": "code",
   "execution_count": 551,
   "metadata": {},
   "outputs": [
    {
     "data": {
      "image/png": "[encoded data removed]",
      "text/plain": [
       "<Figure size 432x288 with 1 Axes>"
      ]
     },
     "metadata": {
      "needs_background": "light"
     },
     "output_type": "display_data"
    }
   ],
   "source": [
    "plt.plot([np.log(i)/np.log(np.log(i)) for i in range(10,100)]);"
   ]
  },
  {
   "cell_type": "code",
   "execution_count": 552,
   "metadata": {},
   "outputs": [
    {
     "data": {
      "text/plain": [
       "0.4999999999999999"
      ]
     },
     "execution_count": 552,
     "metadata": {},
     "output_type": "execute_result"
    }
   ],
   "source": [
    "a = compute_a(n_vertices,edge_density)\n",
    "a"
   ]
  },
  {
   "cell_type": "code",
   "execution_count": 553,
   "metadata": {},
   "outputs": [
    {
     "data": {
      "text/plain": [
       "4.66446898115058"
      ]
     },
     "execution_count": 553,
     "metadata": {},
     "output_type": "execute_result"
    }
   ],
   "source": [
    "2/a+2*np.log(a)/(a*np.log(n_vertices))+2*np.log(np.exp(1)/2)/(a*np.log(n_vertices))+1"
   ]
  },
  {
   "cell_type": "code",
   "execution_count": 554,
   "metadata": {},
   "outputs": [],
   "source": [
    "clique_size = 0\n",
    "args= {}\n",
    "args['edge_density'] = edge_density\n",
    "args['clique_size'] = clique_size\n",
    "args['num_examples_test'] = 1000\n",
    "args['n_vertices'] = n_vertices\n",
    "args['path_dataset'] = './dataset_mcp'"
   ]
  },
  {
   "cell_type": "code",
   "execution_count": 555,
   "metadata": {},
   "outputs": [],
   "source": [
    "gen= MCP_Generator('test',args)"
   ]
  },
  {
   "cell_type": "code",
   "execution_count": 556,
   "metadata": {},
   "outputs": [
    {
     "name": "stdout",
     "output_type": "stream",
     "text": [
      "Creating dataset.\n",
      "Saving datatset at ./dataset_mcp/MCP_1000_100_0_0.1/test.pkl\n"
     ]
    }
   ],
   "source": [
    "gen.load_dataset()"
   ]
  },
  {
   "cell_type": "code",
   "execution_count": 557,
   "metadata": {},
   "outputs": [],
   "source": [
    "def get_device_config(model_path):\n",
    "    config_file = os.path.join(model_path,'config.json')\n",
    "    with open(config_file) as json_file:\n",
    "        config_model = json.load(json_file)\n",
    "    use_cuda = not config_model['cpu'] and torch.cuda.is_available()\n",
    "    device = 'cuda' if use_cuda else 'cpu'\n",
    "    return config_model, device\n",
    "\n",
    "def load_model(model_path, config, device):\n",
    "    model = get_model(config['arch'])\n",
    "    model.to(device)\n",
    "    model_file = os.path.join(model_path,'model_best.pth.tar')\n",
    "    checkpoint = torch.load(model_file)\n",
    "    model.load_state_dict(checkpoint['state_dict'])\n",
    "    return model"
   ]
  },
  {
   "cell_type": "code",
   "execution_count": 558,
   "metadata": {},
   "outputs": [
    {
     "name": "stdout",
     "output_type": "stream",
     "text": [
      "Fetching model Simple_Edge_Embedding - Simple_Edge_Embedding \n"
     ]
    }
   ],
   "source": [
    "model_path = './runs/MCP-100/MCP_100_4_0.1/'\n",
    "config, device = get_device_config(model_path)\n",
    "model = load_model(model_path,config,device)"
   ]
  },
  {
   "cell_type": "code",
   "execution_count": 559,
   "metadata": {},
   "outputs": [],
   "source": [
    "test_loader = siamese_loader(gen, 16, gen.constant_n_vertices, shuffle=False)"
   ]
  },
  {
   "cell_type": "code",
   "execution_count": 560,
   "metadata": {},
   "outputs": [],
   "source": [
    "for G, K in test_loader:\n",
    "    G = G.to(device)\n",
    "    K = K.to(device)\n",
    "    output = model(G)\n",
    "    rawscores = output.squeeze(-1)\n",
    "    proba = torch.softmax(rawscores,-1)\n",
    "    break"
   ]
  },
  {
   "cell_type": "code",
   "execution_count": 561,
   "metadata": {},
   "outputs": [
    {
     "data": {
      "text/plain": [
       "<matplotlib.image.AxesImage at 0x7f2e16893e20>"
      ]
     },
     "execution_count": 561,
     "metadata": {},
     "output_type": "execute_result"
    },
    {
     "data": {
      "image/png": "[encoded data removed]",
      "text/plain": [
       "<Figure size 360x360 with 1 Axes>"
      ]
     },
     "metadata": {
      "needs_background": "light"
     },
     "output_type": "display_data"
    }
   ],
   "source": [
    "i=2\n",
    "fig = pyplot.figure(figsize=(5, 5)) # in inches\n",
    "pyplot.imshow(proba[i,:,:].cpu().detach().numpy(),\n",
    "                  cmap=\"Greys\",\n",
    "                  interpolation=\"none\")"
   ]
  },
  {
   "cell_type": "code",
   "execution_count": 562,
   "metadata": {},
   "outputs": [
    {
     "data": {
      "text/plain": [
       "torch.Size([16, 100, 100, 2])"
      ]
     },
     "execution_count": 562,
     "metadata": {},
     "output_type": "execute_result"
    }
   ],
   "source": [
    "G.shape"
   ]
  },
  {
   "cell_type": "code",
   "execution_count": 563,
   "metadata": {},
   "outputs": [
    {
     "data": {
      "text/plain": [
       "<matplotlib.image.AxesImage at 0x7f2e0f65abe0>"
      ]
     },
     "execution_count": 563,
     "metadata": {},
     "output_type": "execute_result"
    },
    {
     "data": {
      "image/png": "[encoded data removed]",
      "text/plain": [
       "<Figure size 360x360 with 1 Axes>"
      ]
     },
     "metadata": {
      "needs_background": "light"
     },
     "output_type": "display_data"
    }
   ],
   "source": [
    "fig = pyplot.figure(figsize=(5, 5)) # in inches\n",
    "pyplot.imshow(G[i,:,:,1].cpu().detach().numpy(),\n",
    "                  cmap=\"Greys\",\n",
    "                  interpolation=\"none\")"
   ]
  },
  {
   "cell_type": "code",
   "execution_count": 567,
   "metadata": {},
   "outputs": [
    {
     "data": {
      "text/plain": [
       "[<matplotlib.lines.Line2D at 0x7f2e0f6856d0>]"
      ]
     },
     "execution_count": 567,
     "metadata": {},
     "output_type": "execute_result"
    },
    {
     "data": {
      "image/png": "[encoded data removed]",
      "text/plain": [
       "<Figure size 432x288 with 1 Axes>"
      ]
     },
     "metadata": {
      "needs_background": "light"
     },
     "output_type": "display_data"
    }
   ],
   "source": [
    "true_deg = torch.sum(G[i,:,:,1],1)\n",
    "deg = torch.sum(proba[i,:,:],0)\n",
    "#plt.plot(deg.cpu().detach().numpy())\n",
    "plt.plot(true_deg.cpu().detach().numpy())"
   ]
  },
  {
   "cell_type": "code",
   "execution_count": 568,
   "metadata": {},
   "outputs": [],
   "source": [
    "clique_size = 4"
   ]
  },
  {
   "cell_type": "code",
   "execution_count": 569,
   "metadata": {},
   "outputs": [
    {
     "data": {
      "text/plain": [
       "tensor([35, 98, 27, 46], device='cuda:0')"
      ]
     },
     "execution_count": 569,
     "metadata": {},
     "output_type": "execute_result"
    }
   ],
   "source": [
    "_, ind = torch.topk(deg , clique_size)\n",
    "ind"
   ]
  },
  {
   "cell_type": "code",
   "execution_count": 570,
   "metadata": {},
   "outputs": [
    {
     "data": {
      "text/plain": [
       "tensor([16, 85, 17, 79], device='cuda:0')"
      ]
     },
     "execution_count": 570,
     "metadata": {},
     "output_type": "execute_result"
    }
   ],
   "source": [
    "_, ind_n = torch.topk(true_deg, clique_size)\n",
    "ind_n"
   ]
  },
  {
   "cell_type": "code",
   "execution_count": 571,
   "metadata": {},
   "outputs": [
    {
     "data": {
      "text/plain": [
       "torch.Size([4, 100])"
      ]
     },
     "execution_count": 571,
     "metadata": {},
     "output_type": "execute_result"
    }
   ],
   "source": [
    "ind_s,_ = ind_n.sort()\n",
    "G_rows = G[i,ind_s,:,1]\n",
    "G_rows.shape"
   ]
  },
  {
   "cell_type": "code",
   "execution_count": 572,
   "metadata": {},
   "outputs": [
    {
     "data": {
      "text/plain": [
       "tensor([[0., 1., 0., 0.],\n",
       "        [1., 0., 0., 0.],\n",
       "        [0., 0., 0., 1.],\n",
       "        [0., 0., 1., 0.]], device='cuda:0')"
      ]
     },
     "execution_count": 572,
     "metadata": {},
     "output_type": "execute_result"
    }
   ],
   "source": [
    "G_rows[:,ind_s]"
   ]
  },
  {
   "cell_type": "code",
   "execution_count": 573,
   "metadata": {},
   "outputs": [],
   "source": [
    "def get_inducedG(ind,g):\n",
    "    g_rows = g[ind,:]\n",
    "    return g_rows[:,ind]\n",
    "\n",
    "def bronk2(R, P, X, g):\n",
    "    if not any((P, X)):\n",
    "        yield R\n",
    "    for v in P[:]:\n",
    "        R_v = R + [v]\n",
    "        P_v = [v1 for v1 in P if v1 in N(v, g)]\n",
    "        X_v = [v1 for v1 in X if v1 in N(v, g)]\n",
    "        for r in bronk2(R_v, P_v, X_v, g):\n",
    "            yield r\n",
    "        P.remove(v)\n",
    "        X.append(v)\n",
    "\n",
    "def N(v, g):\n",
    "    return [i for i, n_v in enumerate(g[v]) if n_v]\n",
    "\n",
    "def find_maxclique(g,ind=None,clique_size=0):\n",
    "    l_clique = []\n",
    "    if not ind:\n",
    "        ind = range(g.shape[0])\n",
    "    visited = set()\n",
    "    l = clique_size\n",
    "    for x in ind:\n",
    "        #print(x,visited)\n",
    "        if not (x in visited):\n",
    "            for clique in bronk2([x],N(x,g),[],g):\n",
    "                #print(set(clique))\n",
    "                if len(clique) > l-1:\n",
    "                    clique.sort()\n",
    "                    print(clique)\n",
    "                    l = len(clique)\n",
    "                    visited.update(clique)\n",
    "                    l_clique.append(clique)\n",
    "                    #print(visited)\n",
    "    return l_clique"
   ]
  },
  {
   "cell_type": "code",
   "execution_count": 574,
   "metadata": {},
   "outputs": [],
   "source": [
    "gi = get_inducedG(ind_n, G[i,:,:,1])"
   ]
  },
  {
   "cell_type": "code",
   "execution_count": 575,
   "metadata": {},
   "outputs": [
    {
     "name": "stdout",
     "output_type": "stream",
     "text": [
      "[0, 2]\n",
      "[1, 3]\n"
     ]
    }
   ],
   "source": [
    "l_clique = find_maxclique(gi)"
   ]
  },
  {
   "cell_type": "code",
   "execution_count": 576,
   "metadata": {},
   "outputs": [],
   "source": [
    "ind_greedy = [ind_n[i].item() for c in l_clique for i in c]"
   ]
  },
  {
   "cell_type": "code",
   "execution_count": 577,
   "metadata": {},
   "outputs": [
    {
     "data": {
      "text/plain": [
       "[16, 17, 85, 79]"
      ]
     },
     "execution_count": 577,
     "metadata": {},
     "output_type": "execute_result"
    }
   ],
   "source": [
    "ind_greedy"
   ]
  },
  {
   "cell_type": "code",
   "execution_count": 578,
   "metadata": {},
   "outputs": [],
   "source": [
    "g = G[i,:,:,1]"
   ]
  },
  {
   "cell_type": "code",
   "execution_count": 579,
   "metadata": {},
   "outputs": [],
   "source": [
    "#N(ind_greedy,g)"
   ]
  },
  {
   "cell_type": "code",
   "execution_count": 580,
   "metadata": {},
   "outputs": [
    {
     "name": "stdout",
     "output_type": "stream",
     "text": [
      "[16, 5, 17]\n",
      "[16, 5, 47]\n",
      "[16, 9, 87]\n",
      "[16, 10]\n",
      "[16, 14, 47]\n",
      "[16, 17, 43]\n",
      "[16, 17, 59]\n",
      "[16, 30, 66]\n",
      "[16, 33, 53]\n",
      "[16, 33, 66]\n",
      "[16, 33, 68]\n",
      "[16, 40, 42]\n",
      "[16, 40, 53]\n",
      "[16, 42, 68]\n",
      "[16, 43, 53]\n",
      "[16, 46, 61]\n",
      "[16, 48]\n",
      "[16, 59, 66]\n"
     ]
    }
   ],
   "source": [
    "for cl in bronk2([ind_greedy[0]],N(ind_greedy[0],g),[],g):\n",
    "    print(cl)"
   ]
  },
  {
   "cell_type": "code",
   "execution_count": 588,
   "metadata": {},
   "outputs": [
    {
     "data": {
      "text/plain": [
       "tensor([35, 98, 27, 46], device='cuda:0')"
      ]
     },
     "execution_count": 588,
     "metadata": {},
     "output_type": "execute_result"
    }
   ],
   "source": [
    "ind"
   ]
  },
  {
   "cell_type": "code",
   "execution_count": 586,
   "metadata": {},
   "outputs": [
    {
     "name": "stdout",
     "output_type": "stream",
     "text": [
      "[2, 35, 60]\n",
      "[27, 35, 45, 69]\n",
      "[35, 46, 54, 61]\n",
      "[22, 49, 77, 98]\n"
     ]
    }
   ],
   "source": [
    "l = find_maxclique(g,[x.item() for x in ind],clique_size-1)"
   ]
  },
  {
   "cell_type": "code",
   "execution_count": 587,
   "metadata": {},
   "outputs": [
    {
     "name": "stdout",
     "output_type": "stream",
     "text": [
      "[5, 16, 17]\n",
      "[5, 16, 47]\n",
      "[9, 16, 87]\n",
      "[14, 16, 47]\n",
      "[16, 17, 43]\n",
      "[16, 17, 59]\n",
      "[16, 30, 66]\n",
      "[16, 33, 53]\n",
      "[16, 33, 66]\n",
      "[16, 33, 68]\n",
      "[16, 40, 42]\n",
      "[16, 40, 53]\n",
      "[16, 42, 68]\n",
      "[16, 43, 53]\n",
      "[16, 46, 61]\n",
      "[16, 59, 66]\n",
      "[0, 11, 85]\n",
      "[0, 61, 85]\n",
      "[11, 67, 85]\n",
      "[43, 79, 85]\n",
      "[47, 84, 85]\n",
      "[47, 85, 97]\n",
      "[50, 79, 85]\n",
      "[67, 85, 97]\n",
      "[70, 72, 85]\n",
      "[70, 78, 85]\n"
     ]
    }
   ],
   "source": [
    "l = find_maxclique(g,[x.item() for x in ind_n],clique_size-1)"
   ]
  },
  {
   "cell_type": "code",
   "execution_count": 125,
   "metadata": {},
   "outputs": [
    {
     "name": "stdout",
     "output_type": "stream",
     "text": [
      "[0, 1, 2, 3, 4]\n"
     ]
    }
   ],
   "source": [
    "find_maxclique(range(n_vertices),g,clique_size)"
   ]
  },
  {
   "cell_type": "code",
   "execution_count": null,
   "metadata": {},
   "outputs": [],
   "source": []
  },
  {
   "cell_type": "code",
   "execution_count": 26,
   "metadata": {},
   "outputs": [],
   "source": [
    "arch = {} # Architecture and model\n",
    "    \n",
    "arch['arch']= 'Simple_Edge_Embedding' #'Simple_Node_Embedding'\n",
    "arch['model_name'] = 'Simple_Edge_Embedding' #'Simple_Node_Embedding'\n",
    "arch['num_blocks'] = 4\n",
    "arch['original_features_num'] = 2\n",
    "arch['in_features'] = 64\n",
    "arch['out_features'] = 1\n",
    "arch['depth_of_mlp'] = 3\n",
    "\n",
    "\n",
    "device = 'cuda' if torch.cuda.is_available() else 'cpu'"
   ]
  },
  {
   "cell_type": "code",
   "execution_count": 61,
   "metadata": {},
   "outputs": [],
   "source": [
    "weight = torch.ones((n_vertices,n_vertices))\n",
    "scaling = n_vertices**2*edge_density/clique_size**2 #(n_vertices**2-clique_size**2)/clique_size**2\n",
    "weight[:clique_size,:clique_size] = scaling * torch.ones((clique_size,clique_size))\n",
    "weight= weight.to(device)\n",
    "mcp_loss = torch.nn.BCELoss(weight=weight,reduction='none')\n",
    "#weight = torch.ones(n_vertices)\n",
    "#weight[:clique_size] = (n_vertices-clique_size)/clique_size*torch.ones(clique_size)\n",
    "#weight = weight.to(device)\n",
    "#mcp_loss = torch.nn.BCELoss(weight=weight,reduction='mean')"
   ]
  },
  {
   "cell_type": "code",
   "execution_count": 62,
   "metadata": {},
   "outputs": [
    {
     "name": "stdout",
     "output_type": "stream",
     "text": [
      "Fetching model Simple_Edge_Embedding - Simple_Edge_Embedding \n"
     ]
    }
   ],
   "source": [
    "import trainer as trainer\n",
    "train_loader = siamese_loader(gen, 16, gen.constant_n_vertices)\n",
    "learning_rate = 1e-3\n",
    "\n",
    "model = get_model(arch)\n",
    "model.to(device);"
   ]
  },
  {
   "cell_type": "code",
   "execution_count": 63,
   "metadata": {},
   "outputs": [],
   "source": [
    "optimizer = torch.optim.Adam(model.parameters(),\n",
    "                            lr=learning_rate,\n",
    "                            amsgrad=False)"
   ]
  },
  {
   "cell_type": "code",
   "execution_count": 64,
   "metadata": {},
   "outputs": [],
   "source": [
    "#rawscores.shape\n",
    "#labels = torch.diag(K[0,:,:,0])/(clique_size-1)\n",
    "#labels.unsqueeze_(0)\n",
    "#labels.shape\n",
    "#labels.expand(16,-1).shape\n",
    "#proba.shape"
   ]
  },
  {
   "cell_type": "code",
   "execution_count": 65,
   "metadata": {},
   "outputs": [
    {
     "name": "stdout",
     "output_type": "stream",
     "text": [
      "0 5.796206951141357\n",
      "1 1.4147557020187378\n",
      "2 1.444758415222168\n",
      "3 1.4515278339385986\n",
      "4 1.4538531303405762\n",
      "5 1.4739904403686523\n",
      "6 1.3947932720184326\n",
      "7 1.397053837776184\n",
      "8 1.3096513748168945\n",
      "9 1.333236575126648\n"
     ]
    }
   ],
   "source": [
    "for i in range(10):\n",
    "    for G, K in train_loader:\n",
    "        G = G.to(device)\n",
    "        K = K.to(device)\n",
    "        output = model(G)\n",
    "        rawscores = output.squeeze(-1)\n",
    "        #bs = rawscores.shape[0]\n",
    "        #proba = nn.Softmax(2)(rawscores.view(bs, 1, -1)).view_as(rawscores)\n",
    "        proba = torch.softmax(rawscores,-1)\n",
    "        loss = torch.mean(mcp_loss(proba,K[:,:,:,1])*G[:,:,:,1])\n",
    "        #proba = torch.sigmoid(rawscores)\n",
    "        #loss = mcp_loss(proba,labels.expand(bs,-1))\n",
    "        optimizer.zero_grad()\n",
    "        loss.backward()\n",
    "        optimizer.step()\n",
    "    print(i,loss.item())"
   ]
  },
  {
   "cell_type": "code",
   "execution_count": 87,
   "metadata": {},
   "outputs": [],
   "source": [
    "optimizer = torch.optim.Adam(model.parameters(),\n",
    "                            lr=1e-6,\n",
    "                            amsgrad=False)"
   ]
  },
  {
   "cell_type": "code",
   "execution_count": 88,
   "metadata": {},
   "outputs": [
    {
     "name": "stdout",
     "output_type": "stream",
     "text": [
      "0 1.2007036209106445\n",
      "1 1.1318714618682861\n",
      "2 1.144379734992981\n",
      "3 1.1925218105316162\n",
      "4 1.1654659509658813\n",
      "5 1.2037657499313354\n",
      "6 1.1738965511322021\n",
      "7 1.1684999465942383\n",
      "8 1.1523369550704956\n",
      "9 1.1676394939422607\n"
     ]
    }
   ],
   "source": [
    "for i in range(10):\n",
    "    for G, K in train_loader:\n",
    "        G = G.to(device)\n",
    "        K = K.to(device)\n",
    "        output = model(G)\n",
    "        rawscores = output.squeeze(-1)\n",
    "        #bs = rawscores.shape[0]\n",
    "        #proba = nn.Softmax(2)(rawscores.view(bs, 1, -1)).view_as(rawscores)\n",
    "        proba = torch.softmax(rawscores,-1)\n",
    "        loss = torch.mean(mcp_loss(proba,K[:,:,:,1])*G[:,:,:,1])\n",
    "        #loss = mcp_loss(proba,K[:,:,:,1])\n",
    "        #proba = torch.sigmoid(rawscores)\n",
    "        #loss = mcp_loss(proba,labels.expand(bs,-1))\n",
    "        optimizer.zero_grad()\n",
    "        loss.backward()\n",
    "        optimizer.step()\n",
    "    print(i,loss.item())"
   ]
  },
  {
   "cell_type": "code",
   "execution_count": 89,
   "metadata": {},
   "outputs": [
    {
     "data": {
      "text/plain": [
       "tensor([[240.7667, 241.5602, 240.9432,  ..., 235.6404, 238.7376, 235.1882],\n",
       "        [247.4515, 248.1983, 247.6029,  ..., 242.1536, 245.3363, 241.6891],\n",
       "        [247.2719, 248.0568, 247.3846,  ..., 241.9779, 245.1583, 241.5136],\n",
       "        ...,\n",
       "        [236.0364, 236.7858, 236.1810,  ..., 230.9590, 234.0187, 230.5391],\n",
       "        [238.3931, 239.1499, 238.5388,  ..., 233.2891, 236.3292, 232.8411],\n",
       "        [233.2477, 233.9884, 233.3907,  ..., 228.2534, 231.2537, 227.7947]],\n",
       "       device='cuda:0', grad_fn=<SliceBackward>)"
      ]
     },
     "execution_count": 89,
     "metadata": {},
     "output_type": "execute_result"
    }
   ],
   "source": [
    "rawscores[5,:]"
   ]
  },
  {
   "cell_type": "code",
   "execution_count": 90,
   "metadata": {},
   "outputs": [
    {
     "data": {
      "image/png": "[encoded data removed]",
      "text/plain": [
       "<Figure size 432x288 with 1 Axes>"
      ]
     },
     "metadata": {
      "needs_background": "light"
     },
     "output_type": "display_data"
    }
   ],
   "source": [
    "plt.plot(proba[5,20,:].cpu().detach().numpy());\n",
    "plt.plot(proba[5,0,:].cpu().detach().numpy());"
   ]
  },
  {
   "cell_type": "code",
   "execution_count": 91,
   "metadata": {},
   "outputs": [
    {
     "data": {
      "text/plain": [
       "tensor([[0.0355, 0.0778, 0.0413, 0.0675, 0.0409, 0.0555, 0.0490, 0.0499, 0.0767,\n",
       "         0.0326],\n",
       "        [0.0354, 0.0779, 0.0412, 0.0702, 0.0392, 0.0556, 0.0490, 0.0499, 0.0769,\n",
       "         0.0325],\n",
       "        [0.0354, 0.0754, 0.0410, 0.0683, 0.0406, 0.0532, 0.0484, 0.0493, 0.0744,\n",
       "         0.0327],\n",
       "        [0.0354, 0.0752, 0.0410, 0.0681, 0.0406, 0.0544, 0.0472, 0.0492, 0.0742,\n",
       "         0.0327],\n",
       "        [0.0354, 0.0766, 0.0411, 0.0692, 0.0407, 0.0550, 0.0487, 0.0480, 0.0756,\n",
       "         0.0326]], device='cuda:0', grad_fn=<SliceBackward>)"
      ]
     },
     "execution_count": 91,
     "metadata": {},
     "output_type": "execute_result"
    }
   ],
   "source": [
    "proba[5,3:8,:10]"
   ]
  },
  {
   "cell_type": "code",
   "execution_count": 92,
   "metadata": {},
   "outputs": [
    {
     "data": {
      "text/plain": [
       "tensor([[247.4515, 248.2369, 247.6030, 248.0951, 247.5934, 247.8999, 247.7751,\n",
       "         247.7941, 248.2235, 247.3674],\n",
       "        [248.4422, 249.2304, 248.5940, 249.1268, 248.5444, 248.8921, 248.7668,\n",
       "         248.7858, 249.2170, 248.3575],\n",
       "        [237.7678, 238.5227, 237.9134, 238.4234, 237.9042, 238.1740, 238.0787,\n",
       "         238.0970, 238.5098, 237.6869],\n",
       "        [236.8611, 237.6130, 237.0060, 237.5143, 236.9970, 237.2903, 237.1474,\n",
       "         237.1890, 237.6002, 236.7805],\n",
       "        [242.7478, 243.5184, 242.8964, 243.4172, 242.8871, 243.1877, 243.0652,\n",
       "         243.0510, 243.5052, 242.6652]], device='cuda:0',\n",
       "       grad_fn=<SliceBackward>)"
      ]
     },
     "execution_count": 92,
     "metadata": {},
     "output_type": "execute_result"
    }
   ],
   "source": [
    "rawscores[5,3:8,:10]"
   ]
  },
  {
   "cell_type": "code",
   "execution_count": 93,
   "metadata": {},
   "outputs": [],
   "source": [
    "deg = torch.sum(proba[5,:,:],0)"
   ]
  },
  {
   "cell_type": "code",
   "execution_count": 94,
   "metadata": {},
   "outputs": [],
   "source": [
    " _, ind = torch.topk(deg , clique_size)#torch.topk(deg, clique_size)"
   ]
  },
  {
   "cell_type": "code",
   "execution_count": 95,
   "metadata": {},
   "outputs": [
    {
     "data": {
      "text/plain": [
       "tensor([14,  1,  8,  3, 11, 13,  5,  7,  6,  2,  4,  0, 12,  9, 10],\n",
       "       device='cuda:0')"
      ]
     },
     "execution_count": 95,
     "metadata": {},
     "output_type": "execute_result"
    }
   ],
   "source": [
    "ind"
   ]
  },
  {
   "cell_type": "code",
   "execution_count": 96,
   "metadata": {},
   "outputs": [],
   "source": [
    "true_deg = torch.sum(G[5,:,:,1],1)"
   ]
  },
  {
   "cell_type": "code",
   "execution_count": 97,
   "metadata": {},
   "outputs": [],
   "source": [
    "_, ind_n = torch.topk(true_deg, clique_size)"
   ]
  },
  {
   "cell_type": "code",
   "execution_count": 98,
   "metadata": {},
   "outputs": [
    {
     "data": {
      "text/plain": [
       "tensor([83, 14,  4,  8,  3,  2,  1, 11, 75, 13, 90,  7, 46, 58, 12],\n",
       "       device='cuda:0')"
      ]
     },
     "execution_count": 98,
     "metadata": {},
     "output_type": "execute_result"
    }
   ],
   "source": [
    "ind_n"
   ]
  },
  {
   "cell_type": "code",
   "execution_count": 99,
   "metadata": {},
   "outputs": [
    {
     "data": {
      "text/plain": [
       "[<matplotlib.lines.Line2D at 0x7f86178b8dc0>]"
      ]
     },
     "execution_count": 99,
     "metadata": {},
     "output_type": "execute_result"
    },
    {
     "data": {
      "image/png": "[encoded data removed]",
      "text/plain": [
       "<Figure size 432x288 with 1 Axes>"
      ]
     },
     "metadata": {
      "needs_background": "light"
     },
     "output_type": "display_data"
    }
   ],
   "source": [
    "#plt.plot(deg.cpu().detach().numpy())\n",
    "plt.plot(deg.cpu().detach().numpy())\n",
    "plt.plot(true_deg.cpu().detach().numpy()/10)"
   ]
  },
  {
   "cell_type": "code",
   "execution_count": 100,
   "metadata": {},
   "outputs": [
    {
     "data": {
      "text/plain": [
       "<matplotlib.image.AxesImage at 0x7f861775d220>"
      ]
     },
     "execution_count": 100,
     "metadata": {},
     "output_type": "execute_result"
    },
    {
     "data": {
      "image/png": "[encoded data removed]",
      "text/plain": [
       "<Figure size 360x360 with 1 Axes>"
      ]
     },
     "metadata": {
      "needs_background": "light"
     },
     "output_type": "display_data"
    }
   ],
   "source": [
    "fig = pyplot.figure(figsize=(5, 5)) # in inches\n",
    "pyplot.imshow(proba[5,:,:].cpu().detach().numpy(),\n",
    "                  cmap=\"Greys\",\n",
    "                  interpolation=\"none\")"
   ]
  },
  {
   "cell_type": "code",
   "execution_count": 101,
   "metadata": {},
   "outputs": [
    {
     "data": {
      "text/plain": [
       "<matplotlib.image.AxesImage at 0x7f8617719ee0>"
      ]
     },
     "execution_count": 101,
     "metadata": {},
     "output_type": "execute_result"
    },
    {
     "data": {
      "image/png": "[encoded data removed]",
      "text/plain": [
       "<Figure size 360x360 with 1 Axes>"
      ]
     },
     "metadata": {
      "needs_background": "light"
     },
     "output_type": "display_data"
    }
   ],
   "source": [
    "fig = pyplot.figure(figsize=(5, 5)) # in inches\n",
    "pyplot.imshow(G[5,:,:,1].cpu().detach().numpy(),\n",
    "                  cmap=\"Greys\",\n",
    "                  interpolation=\"none\")"
   ]
  },
  {
   "cell_type": "code",
   "execution_count": 29,
   "metadata": {},
   "outputs": [],
   "source": [
    "m = nn.Softmax2d()"
   ]
  },
  {
   "cell_type": "code",
   "execution_count": 30,
   "metadata": {},
   "outputs": [],
   "source": [
    "input = torch.randn(2, 3, 12, 13)"
   ]
  },
  {
   "cell_type": "code",
   "execution_count": 31,
   "metadata": {},
   "outputs": [],
   "source": [
    "output = m(input)"
   ]
  },
  {
   "cell_type": "code",
   "execution_count": 36,
   "metadata": {},
   "outputs": [
    {
     "data": {
      "text/plain": [
       "tensor(1.)"
      ]
     },
     "execution_count": 36,
     "metadata": {},
     "output_type": "execute_result"
    }
   ],
   "source": [
    "torch.sum(output[0,:,1,1])"
   ]
  },
  {
   "cell_type": "code",
   "execution_count": 173,
   "metadata": {},
   "outputs": [
    {
     "data": {
      "text/plain": [
       "tensor([[0., 1., 1., 1., 1., 1., 0., 0., 0., 0.],\n",
       "        [1., 0., 1., 1., 1., 1., 0., 0., 0., 0.],\n",
       "        [1., 1., 0., 1., 1., 1., 0., 0., 0., 0.],\n",
       "        [1., 1., 1., 0., 1., 1., 0., 0., 0., 0.],\n",
       "        [1., 1., 1., 1., 0., 1., 0., 0., 0., 0.],\n",
       "        [1., 1., 1., 1., 1., 0., 0., 0., 0., 0.],\n",
       "        [0., 0., 0., 0., 0., 0., 0., 0., 0., 0.],\n",
       "        [0., 0., 0., 0., 0., 0., 0., 0., 0., 0.],\n",
       "        [0., 0., 0., 0., 0., 0., 0., 0., 0., 0.],\n",
       "        [0., 0., 0., 0., 0., 0., 0., 0., 0., 0.]], device='cuda:0')"
      ]
     },
     "execution_count": 173,
     "metadata": {},
     "output_type": "execute_result"
    }
   ],
   "source": [
    "K[5,:10,:10,1]"
   ]
  },
  {
   "cell_type": "code",
   "execution_count": 174,
   "metadata": {},
   "outputs": [
    {
     "data": {
      "text/plain": [
       "tensor([[0., 1., 1., 1., 1., 1., 0., 0., 0., 0.],\n",
       "        [1., 0., 1., 1., 1., 1., 1., 0., 0., 0.],\n",
       "        [1., 1., 0., 1., 1., 1., 0., 0., 0., 1.],\n",
       "        [1., 1., 1., 0., 1., 1., 0., 1., 1., 0.],\n",
       "        [1., 1., 1., 1., 0., 1., 0., 0., 0., 0.],\n",
       "        [1., 1., 1., 1., 1., 0., 0., 0., 0., 0.],\n",
       "        [0., 1., 0., 0., 0., 0., 0., 0., 0., 0.],\n",
       "        [0., 0., 0., 1., 0., 0., 0., 0., 1., 0.],\n",
       "        [0., 0., 0., 1., 0., 0., 0., 1., 0., 0.],\n",
       "        [0., 0., 1., 0., 0., 0., 0., 0., 0., 0.]], device='cuda:0')"
      ]
     },
     "execution_count": 174,
     "metadata": {},
     "output_type": "execute_result"
    }
   ],
   "source": [
    "G[5,:10,:10,1]"
   ]
  },
  {
   "cell_type": "code",
   "execution_count": 71,
   "metadata": {},
   "outputs": [],
   "source": [
    "preds = torch.stack((torch.max(output[:,:5,:],1)[0],torch.max(output[:,5:,:],1)[0]),1)\n",
    "probas = torch.log_softmax(preds,1)"
   ]
  },
  {
   "cell_type": "code",
   "execution_count": 72,
   "metadata": {},
   "outputs": [
    {
     "data": {
      "text/plain": [
       "torch.Size([16, 100])"
      ]
     },
     "execution_count": 72,
     "metadata": {},
     "output_type": "execute_result"
    }
   ],
   "source": [
    "torch.max(output[:,:5,:],1)[0].shape"
   ]
  },
  {
   "cell_type": "code",
   "execution_count": 73,
   "metadata": {},
   "outputs": [
    {
     "data": {
      "text/plain": [
       "tensor([-12864.7617,      0.0000], device='cuda:0', grad_fn=<SelectBackward>)"
      ]
     },
     "execution_count": 73,
     "metadata": {},
     "output_type": "execute_result"
    }
   ],
   "source": [
    "probas[0,:,1]"
   ]
  },
  {
   "cell_type": "code",
   "execution_count": 74,
   "metadata": {},
   "outputs": [
    {
     "data": {
      "text/plain": [
       "torch.Size([16, 2, 100])"
      ]
     },
     "execution_count": 74,
     "metadata": {},
     "output_type": "execute_result"
    }
   ],
   "source": [
    "probas.shape"
   ]
  },
  {
   "cell_type": "code",
   "execution_count": 75,
   "metadata": {},
   "outputs": [],
   "source": [
    "target = torch.zeros_like(probas[:,0,:],dtype=torch.long)"
   ]
  },
  {
   "cell_type": "code",
   "execution_count": 76,
   "metadata": {},
   "outputs": [],
   "source": [
    "\n",
    "target[:,:5] = torch.ones((16,5),dtype=torch.long)"
   ]
  },
  {
   "cell_type": "code",
   "execution_count": 77,
   "metadata": {},
   "outputs": [
    {
     "data": {
      "text/plain": [
       "torch.Size([16, 100])"
      ]
     },
     "execution_count": 77,
     "metadata": {},
     "output_type": "execute_result"
    }
   ],
   "source": [
    "target.shape"
   ]
  },
  {
   "cell_type": "code",
   "execution_count": 78,
   "metadata": {},
   "outputs": [
    {
     "data": {
      "text/plain": [
       "tensor([1, 1, 1, 1, 1, 0, 0, 0, 0, 0], device='cuda:0')"
      ]
     },
     "execution_count": 78,
     "metadata": {},
     "output_type": "execute_result"
    }
   ],
   "source": [
    "target[0,:10]"
   ]
  },
  {
   "cell_type": "code",
   "execution_count": 79,
   "metadata": {},
   "outputs": [
    {
     "data": {
      "text/plain": [
       "tensor(14757.9775, device='cuda:0', grad_fn=<NllLoss2DBackward>)"
      ]
     },
     "execution_count": 79,
     "metadata": {},
     "output_type": "execute_result"
    }
   ],
   "source": [
    "l_fun(probas,target)"
   ]
  },
  {
   "cell_type": "code",
   "execution_count": 23,
   "metadata": {},
   "outputs": [],
   "source": [
    "def accuracy_max_mcp(weights,clique_size):\n",
    "    \"\"\"\n",
    "    weights should be (bs,n,n) and labels (bs,n) numpy arrays\n",
    "    \"\"\"\n",
    "    acc = 0\n",
    "    total_n_vertices = 0\n",
    "    for i, weight in enumerate(weights):\n",
    "        weight = weight.cpu().detach().numpy()\n",
    "        preds = np.argmax(weight, 1)\n",
    "        #print(preds)\n",
    "        acc += np.sum(preds[:clique_size] == 1)\n",
    "        #acc += np.sum(preds[clique_size:] == 0)\n",
    "        total_n_vertices += len(weight)\n",
    "    return acc, total_n_vertices\n"
   ]
  },
  {
   "cell_type": "code",
   "execution_count": 24,
   "metadata": {},
   "outputs": [
    {
     "data": {
      "text/plain": [
       "(0, 500)"
      ]
     },
     "execution_count": 24,
     "metadata": {},
     "output_type": "execute_result"
    }
   ],
   "source": [
    "accuracy_max_mcp(out,5)"
   ]
  },
  {
   "cell_type": "code",
   "execution_count": null,
   "metadata": {},
   "outputs": [],
   "source": []
  }
 ],
 "metadata": {
  "kernelspec": {
   "display_name": "gnn",
   "language": "python",
   "name": "gnn"
  },
  "language_info": {
   "codemirror_mode": {
    "name": "ipython",
    "version": 3
   },
   "file_extension": ".py",
   "mimetype": "text/x-python",
   "name": "python",
   "nbconvert_exporter": "python",
   "pygments_lexer": "ipython3",
   "version": "3.8.5"
  }
 },
 "nbformat": 4,
 "nbformat_minor": 4
}
